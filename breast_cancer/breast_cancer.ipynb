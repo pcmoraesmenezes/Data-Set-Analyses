{
 "cells": [
  {
   "cell_type": "code",
   "execution_count": 1,
   "metadata": {},
   "outputs": [],
   "source": [
    "import numpy as np\n",
    "import pandas as pd\n",
    "import matplotlib.pyplot as plt\n",
    "import seaborn as sns"
   ]
  },
  {
   "cell_type": "code",
   "execution_count": 4,
   "metadata": {},
   "outputs": [],
   "source": [
    "df = pd.read_csv('breast-cancer.csv')"
   ]
  },
  {
   "cell_type": "code",
   "execution_count": 3,
   "metadata": {},
   "outputs": [
    {
     "name": "stdout",
     "output_type": "stream",
     "text": [
      "<class 'pandas.core.frame.DataFrame'>\n",
      "RangeIndex: 286 entries, 0 to 285\n",
      "Data columns (total 11 columns):\n",
      " #   Column       Non-Null Count  Dtype \n",
      "---  ------       --------------  ----- \n",
      " 0   Unnamed: 0   286 non-null    int64 \n",
      " 1   Class        286 non-null    object\n",
      " 2   Age          286 non-null    object\n",
      " 3   Menopause    286 non-null    object\n",
      " 4   Tumor-size   286 non-null    object\n",
      " 5   Inv-nodes    286 non-null    object\n",
      " 6   Node-caps    286 non-null    object\n",
      " 7   Deg-malig    286 non-null    int64 \n",
      " 8   Breast       286 non-null    object\n",
      " 9   Breast-quad  286 non-null    object\n",
      " 10  Irradiat     286 non-null    object\n",
      "dtypes: int64(2), object(9)\n",
      "memory usage: 24.7+ KB\n"
     ]
    }
   ],
   "source": [
    "df.info()"
   ]
  },
  {
   "cell_type": "markdown",
   "metadata": {},
   "source": [
    "## Some informations about the dataset:\n",
    "\n",
    "Class:\n",
    "\n",
    "    no-recurrence-events (absence of breast cancer)\n",
    "    recurrence-events (presence of breast cancer)\n",
    "\n",
    "Age:\n",
    "\n",
    "    Variable which agroups the patients in different age groups.\n",
    "\n",
    "Menopause:\n",
    "\n",
    "    it40(less than 40 years)\n",
    "    ge40(more than 40 years)\n",
    "    premeno(premenopause)\n",
    "\n",
    "    \n"
   ]
  },
  {
   "cell_type": "code",
   "execution_count": null,
   "metadata": {},
   "outputs": [],
   "source": []
  }
 ],
 "metadata": {
  "kernelspec": {
   "display_name": "base",
   "language": "python",
   "name": "python3"
  },
  "language_info": {
   "codemirror_mode": {
    "name": "ipython",
    "version": 3
   },
   "file_extension": ".py",
   "mimetype": "text/x-python",
   "name": "python",
   "nbconvert_exporter": "python",
   "pygments_lexer": "ipython3",
   "version": "3.11.5"
  }
 },
 "nbformat": 4,
 "nbformat_minor": 2
}
