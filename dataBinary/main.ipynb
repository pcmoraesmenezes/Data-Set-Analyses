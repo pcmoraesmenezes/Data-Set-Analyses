{
 "cells": [
  {
   "cell_type": "code",
   "execution_count": 1,
   "metadata": {},
   "outputs": [],
   "source": [
    "import pandas as pd\n",
    "import numpy as np\n",
    "import matplotlib.pyplot as plt\n",
    "import seaborn as sns"
   ]
  },
  {
   "cell_type": "code",
   "execution_count": 3,
   "metadata": {},
   "outputs": [
    {
     "name": "stdout",
     "output_type": "stream",
     "text": [
      "<class 'pandas.core.frame.DataFrame'>\n",
      "RangeIndex: 568 entries, 0 to 567\n",
      "Data columns (total 31 columns):\n",
      " #   Column  Non-Null Count  Dtype  \n",
      "---  ------  --------------  -----  \n",
      " 0   Target  568 non-null    int64  \n",
      " 1   x1      568 non-null    float64\n",
      " 2   x2      568 non-null    float64\n",
      " 3   x3      568 non-null    float64\n",
      " 4   x4      568 non-null    float64\n",
      " 5   x5      568 non-null    float64\n",
      " 6   x6      568 non-null    float64\n",
      " 7   x7      568 non-null    float64\n",
      " 8   x8      568 non-null    float64\n",
      " 9   x9      568 non-null    float64\n",
      " 10  x10     568 non-null    float64\n",
      " 11  x11     568 non-null    float64\n",
      " 12  x12     568 non-null    float64\n",
      " 13  x13     568 non-null    float64\n",
      " 14  x14     568 non-null    float64\n",
      " 15  x15     568 non-null    float64\n",
      " 16  x16     568 non-null    float64\n",
      " 17  x17     568 non-null    float64\n",
      " 18  x18     568 non-null    float64\n",
      " 19  x19     568 non-null    float64\n",
      " 20  x20     568 non-null    float64\n",
      " 21  x21     568 non-null    float64\n",
      " 22  x22     568 non-null    float64\n",
      " 23  x23     568 non-null    float64\n",
      " 24  x24     568 non-null    float64\n",
      " 25  x25     568 non-null    float64\n",
      " 26  x26     568 non-null    float64\n",
      " 27  x27     568 non-null    float64\n",
      " 28  x28     568 non-null    float64\n",
      " 29  x29     568 non-null    float64\n",
      " 30  x30     568 non-null    float64\n",
      "dtypes: float64(30), int64(1)\n",
      "memory usage: 137.7 KB\n"
     ]
    }
   ],
   "source": [
    "df = pd.read_excel('dataBinaryOutput.xlsx')\n",
    "df.info()"
   ]
  },
  {
   "cell_type": "code",
   "execution_count": null,
   "metadata": {},
   "outputs": [],
   "source": []
  }
 ],
 "metadata": {
  "kernelspec": {
   "display_name": "base",
   "language": "python",
   "name": "python3"
  },
  "language_info": {
   "codemirror_mode": {
    "name": "ipython",
    "version": 3
   },
   "file_extension": ".py",
   "mimetype": "text/x-python",
   "name": "python",
   "nbconvert_exporter": "python",
   "pygments_lexer": "ipython3",
   "version": "3.11.5"
  }
 },
 "nbformat": 4,
 "nbformat_minor": 2
}
